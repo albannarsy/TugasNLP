{
  "nbformat": 4,
  "nbformat_minor": 0,
  "metadata": {
    "colab": {
      "provenance": []
    },
    "kernelspec": {
      "name": "python3",
      "display_name": "Python 3"
    },
    "language_info": {
      "name": "python"
    }
  },
  "cells": [
    {
      "cell_type": "markdown",
      "source": [
        "Guided"
      ],
      "metadata": {
        "id": "1vmacPKzLQbJ"
      }
    },
    {
      "cell_type": "code",
      "execution_count": 1,
      "metadata": {
        "colab": {
          "base_uri": "https://localhost:8080/"
        },
        "id": "6ShDWGoZ8iKY",
        "outputId": "95d05541-b0d3-4dcb-bc28-c9849689dfda"
      },
      "outputs": [
        {
          "output_type": "stream",
          "name": "stdout",
          "text": [
            "<re.Match object; span=(13, 21), match='Portugal'>\n"
          ]
        }
      ],
      "source": [
        "# search untuk mencari pola regular expression pertama yang cocok dengan string input\n",
        "import re\n",
        "\n",
        "txt = \"Ronaldo dari Portugal\"\n",
        "x = re.search(\"Portugal\",txt)\n",
        "print(x)"
      ]
    },
    {
      "cell_type": "code",
      "source": [
        "import re\n",
        "\n",
        "txt = \"Ronaldo dari portugal\"\n",
        "x = re.search(\"Messi\",txt)\n",
        "print(x)"
      ],
      "metadata": {
        "colab": {
          "base_uri": "https://localhost:8080/"
        },
        "id": "sT4Oz2ksLo6e",
        "outputId": "0bfdd417-07d0-4e31-b1df-b0c30190b29a"
      },
      "execution_count": 2,
      "outputs": [
        {
          "output_type": "stream",
          "name": "stdout",
          "text": [
            "None\n"
          ]
        }
      ]
    },
    {
      "cell_type": "code",
      "source": [
        "# match (untuk mencari string yang berawalan kata tertentu)\n",
        "\n",
        "import re\n",
        "\n",
        "text = \"Halo, nama saya Edward.\"\n",
        "\n",
        "patterns = [\"nama\", \"Edward\", \"Halo\"]\n",
        "\n",
        "for pattern in patterns:\n",
        "    match = re.match(pattern, text)\n",
        "    if match:\n",
        "        print(f\"Pola ditemukan di awal string. >>> {match}\")\n",
        "    else:\n",
        "        print(f\"Pola tidak ditemukan di awal string. >>> {match}\")"
      ],
      "metadata": {
        "colab": {
          "base_uri": "https://localhost:8080/"
        },
        "id": "Fvx95YwLLt2k",
        "outputId": "834f43c9-2565-46ae-c6cf-d8648a710718"
      },
      "execution_count": 3,
      "outputs": [
        {
          "output_type": "stream",
          "name": "stdout",
          "text": [
            "Pola tidak ditemukan di awal string. >>> None\n",
            "Pola tidak ditemukan di awal string. >>> None\n",
            "Pola ditemukan di awal string. >>> <re.Match object; span=(0, 4), match='Halo'>\n"
          ]
        }
      ]
    },
    {
      "cell_type": "code",
      "source": [
        "# findall (untuk menemukan semua kecocokan dari pola regular expression dalam sebuah string input)\n",
        "\n",
        "import re\n",
        "\n",
        "text = \"nomor telepon steve adalah 081554469780, sedangkan jobs adalah 087465537920.\"\n",
        "pattern = r'\\d{12}'\n",
        "# pattern = r'\\d{12,13}'\n",
        "matches = re.findall(pattern, text)\n",
        "\n",
        "print(matches)"
      ],
      "metadata": {
        "colab": {
          "base_uri": "https://localhost:8080/"
        },
        "id": "Xy3vyJpqLxnM",
        "outputId": "fc6e7385-220d-4355-e900-1670363829af"
      },
      "execution_count": 4,
      "outputs": [
        {
          "output_type": "stream",
          "name": "stdout",
          "text": [
            "['081554469780', '087465537920']\n"
          ]
        }
      ]
    },
    {
      "cell_type": "code",
      "source": [
        "# contoh lain dari findall (menemukan seluruh dokumen yang mengandung kata tertentu)\n",
        "\n",
        "import re\n",
        "\n",
        "text = \"Halo, nama saya John. Saya adalah mantan pegulat WWE.\"\n",
        "\n",
        "pattern = \".*John.*\"\n",
        "\n",
        "matches = re.findall(pattern, text)\n",
        "\n",
        "for match in matches:\n",
        "    matches = re.findall(pattern, text)\n",
        "    if match:\n",
        "        print(match)\n",
        "    else:\n",
        "        print(\"kata tidak ditemukan\")"
      ],
      "metadata": {
        "colab": {
          "base_uri": "https://localhost:8080/"
        },
        "id": "VNQLyle7L1hM",
        "outputId": "3d46c402-214d-402f-dc92-bdcd0b7ab3f5"
      },
      "execution_count": 5,
      "outputs": [
        {
          "output_type": "stream",
          "name": "stdout",
          "text": [
            "Halo, nama saya John. Saya adalah mantan pegulat WWE.\n"
          ]
        }
      ]
    },
    {
      "cell_type": "code",
      "source": [
        "# mengganti sebuah kata menggunakan regex\n",
        "\n",
        "import re\n",
        "\n",
        "text = \"Halo, nama saya Rey. Saya adalah Petarung MMA.\"\n",
        "pattern = \"Rey\"\n",
        "replacement = \"Don\"\n",
        "\n",
        "new_text = re.sub(pattern, replacement, text)\n",
        "\n",
        "print(new_text)"
      ],
      "metadata": {
        "colab": {
          "base_uri": "https://localhost:8080/"
        },
        "id": "r0ArnjJwL4yM",
        "outputId": "1ff9d2c6-53ca-4542-f9f9-1236b246889c"
      },
      "execution_count": 6,
      "outputs": [
        {
          "output_type": "stream",
          "name": "stdout",
          "text": [
            "Halo, nama saya Don. Saya adalah Petarung MMA.\n"
          ]
        }
      ]
    },
    {
      "cell_type": "code",
      "source": [
        "pip install Faker\n"
      ],
      "metadata": {
        "colab": {
          "base_uri": "https://localhost:8080/"
        },
        "id": "MdnARtTkMOff",
        "outputId": "6c1cb3da-2756-4355-9995-4496d4297f96"
      },
      "execution_count": 8,
      "outputs": [
        {
          "output_type": "stream",
          "name": "stdout",
          "text": [
            "Collecting Faker\n",
            "  Using cached Faker-19.10.0-py3-none-any.whl (1.7 MB)\n",
            "Requirement already satisfied: python-dateutil>=2.4 in /usr/local/lib/python3.10/dist-packages (from Faker) (2.8.2)\n",
            "Requirement already satisfied: six>=1.5 in /usr/local/lib/python3.10/dist-packages (from python-dateutil>=2.4->Faker) (1.16.0)\n",
            "Installing collected packages: Faker\n",
            "Successfully installed Faker-19.10.0\n"
          ]
        }
      ]
    },
    {
      "cell_type": "code",
      "source": [
        "from faker import Faker\n",
        "\n",
        "fake = Faker()\n",
        "\n",
        "jumlah_data = 10\n",
        "\n",
        "dummy_data = []\n",
        "\n",
        "for _ in range(jumlah_data):\n",
        "    nama = fake.name()\n",
        "    nomor_telepon = fake.phone_number()\n",
        "    alamat = fake.address()\n",
        "    email = fake.email()\n",
        "\n",
        "    data = f\"Nama: {nama}\\nNomor Telepon: {nomor_telepon}\\nAlamat: {alamat}\\nEmail: {email}\\n\"\n",
        "    dummy_data.append(data)\n",
        "\n",
        "file_name = \"dummy_data.txt\"\n",
        "with open(file_name, \"w\") as file:\n",
        "    for data in dummy_data:\n",
        "        file.write(data + \"\\n\")\n",
        "\n",
        "print(f\"{jumlah_data} data dummy telah disimpan dalam {file_name}.\")\n"
      ],
      "metadata": {
        "colab": {
          "base_uri": "https://localhost:8080/"
        },
        "id": "-98mG-kxMBTP",
        "outputId": "3baec308-be1a-46f3-f5bc-f0dbdb3b0e19"
      },
      "execution_count": 9,
      "outputs": [
        {
          "output_type": "stream",
          "name": "stdout",
          "text": [
            "10 data dummy telah disimpan dalam dummy_data.txt.\n"
          ]
        }
      ]
    },
    {
      "cell_type": "markdown",
      "source": [
        "Unguided\n",
        "\n",
        "1. Buatlah sebuah regular expression untuk mencari semua alamat email dalam teks faker.\n",
        "2. Buatlah sebuah regular expression untuk mencari nomor telepon dalam teks faker.\n",
        "3. Gabungkan keduanya dan simpan kedalam dataframe\n",
        "4. Upload kedalam GitHub masing masing (disarankan buat folder baru prak-1)"
      ],
      "metadata": {
        "id": "97m2S_uAMc8u"
      }
    },
    {
      "cell_type": "code",
      "source": [
        "import re\n",
        "import pandas as pd\n",
        "\n",
        "with open(\"dummy_data.txt\", \"r\") as file:\n",
        "    text = file.read()\n",
        "\n",
        "Email_regulerexpression = r'\\b[A-Za-z0-9._%+-]+@[A-Za-z0-9.-]+\\.[A-Z|a-z]{2,7}\\b'\n",
        "Email = re.findall(Email_regulerexpression, text)\n",
        "\n",
        "Email"
      ],
      "metadata": {
        "id": "N-DSZFpjMcd7",
        "colab": {
          "base_uri": "https://localhost:8080/"
        },
        "outputId": "aff59524-2448-412c-b96d-ec2e82a0a035"
      },
      "execution_count": 39,
      "outputs": [
        {
          "output_type": "execute_result",
          "data": {
            "text/plain": [
              "['mosssamantha@example.com',\n",
              " 'bduffy@example.net',\n",
              " 'averynicholas@example.com',\n",
              " 'clinton40@example.com',\n",
              " 'chase02@example.org',\n",
              " 'sarah40@example.com',\n",
              " 'jonathanduncan@example.org',\n",
              " 'foleykevin@example.org',\n",
              " 'melissa76@example.net',\n",
              " 'jamesbailey@example.com']"
            ]
          },
          "metadata": {},
          "execution_count": 39
        }
      ]
    },
    {
      "cell_type": "code",
      "source": [
        "import re\n",
        "import pandas as pd\n",
        "\n",
        "with open(\"dummy_data.txt\", \"r\") as file:\n",
        "    text = file.read()\n",
        "\n",
        "Phone_regularexpression = r'\\b\\d{3}[-.\\s]?\\d{3}[-.\\s]?\\d{4}\\b'\n",
        "Phone = re.findall(Phone_regularexpression, text)\n",
        "\n",
        "Phone"
      ],
      "metadata": {
        "colab": {
          "base_uri": "https://localhost:8080/"
        },
        "id": "nG6j3_dIZ4qx",
        "outputId": "51a6855e-74f2-4b46-99d7-0cecf4e61048"
      },
      "execution_count": 43,
      "outputs": [
        {
          "output_type": "execute_result",
          "data": {
            "text/plain": [
              "['664-484-7762', '284-436-1665']"
            ]
          },
          "metadata": {},
          "execution_count": 43
        }
      ]
    },
    {
      "cell_type": "code",
      "source": [
        "from IPython.core.display import display_pdf\n",
        "import pandas as pd\n",
        "\n",
        "faker_phonenumbers = [\"(729)710-1620\", \"001-432-605-3004x01845\", \"001-664-484-7762\", \"744.666.7900x17726\", \"871-963-9478x0125\", \"001-912-925-6769x28422\", \"610-941-3285x7919\", \"284-436-1665\", \"(853)687-4149x7423\", \"786.320.7899x940\"]\n",
        "faker_emailaddresses = [\"mosssamantha@example.com\", \"bduffy@example.net\", \"averynicholas@example.com\", \"clinton40@example.com\", \"chase02@example.org\", \"sarah40@example.com\", \"jonathanduncan@example.org\", \"foleykevin@example.org\", \"melissa76@example.net\", \"jamesbailey@example.com\"]\n",
        "\n",
        "data = {\"Email\": faker_emailaddresses, \"Phone Number\": faker_phonenumbers}\n",
        "\n",
        "max_email_length = max([len(email) for email in faker_emailaddresses])\n",
        "for i in range(len(data[\"Phone Number\"])):\n",
        "    data[\"Phone Number\"][i] = f\"{data['Phone Number'][i]}{' ':>{max_email_length - len(data['Phone Number'][i])}}\"\n",
        "\n",
        "df = pd.DataFrame(data)\n",
        "df\n"
      ],
      "metadata": {
        "colab": {
          "base_uri": "https://localhost:8080/",
          "height": 363
        },
        "id": "jSiumqtdUwL-",
        "outputId": "8bbbf75c-c9f9-4244-f17c-312ad7be9072"
      },
      "execution_count": 51,
      "outputs": [
        {
          "output_type": "execute_result",
          "data": {
            "text/plain": [
              "                        Email                Phone Number\n",
              "0    mosssamantha@example.com  (729)710-1620             \n",
              "1          bduffy@example.net  001-432-605-3004x01845    \n",
              "2   averynicholas@example.com  001-664-484-7762          \n",
              "3       clinton40@example.com  744.666.7900x17726        \n",
              "4         chase02@example.org  871-963-9478x0125         \n",
              "5         sarah40@example.com  001-912-925-6769x28422    \n",
              "6  jonathanduncan@example.org  610-941-3285x7919         \n",
              "7      foleykevin@example.org  284-436-1665              \n",
              "8       melissa76@example.net  (853)687-4149x7423        \n",
              "9     jamesbailey@example.com  786.320.7899x940          "
            ],
            "text/html": [
              "\n",
              "  <div id=\"df-fd540baa-dc71-4d6e-8d2d-9589474a3a10\" class=\"colab-df-container\">\n",
              "    <div>\n",
              "<style scoped>\n",
              "    .dataframe tbody tr th:only-of-type {\n",
              "        vertical-align: middle;\n",
              "    }\n",
              "\n",
              "    .dataframe tbody tr th {\n",
              "        vertical-align: top;\n",
              "    }\n",
              "\n",
              "    .dataframe thead th {\n",
              "        text-align: right;\n",
              "    }\n",
              "</style>\n",
              "<table border=\"1\" class=\"dataframe\">\n",
              "  <thead>\n",
              "    <tr style=\"text-align: right;\">\n",
              "      <th></th>\n",
              "      <th>Email</th>\n",
              "      <th>Phone Number</th>\n",
              "    </tr>\n",
              "  </thead>\n",
              "  <tbody>\n",
              "    <tr>\n",
              "      <th>0</th>\n",
              "      <td>mosssamantha@example.com</td>\n",
              "      <td>(729)710-1620</td>\n",
              "    </tr>\n",
              "    <tr>\n",
              "      <th>1</th>\n",
              "      <td>bduffy@example.net</td>\n",
              "      <td>001-432-605-3004x01845</td>\n",
              "    </tr>\n",
              "    <tr>\n",
              "      <th>2</th>\n",
              "      <td>averynicholas@example.com</td>\n",
              "      <td>001-664-484-7762</td>\n",
              "    </tr>\n",
              "    <tr>\n",
              "      <th>3</th>\n",
              "      <td>clinton40@example.com</td>\n",
              "      <td>744.666.7900x17726</td>\n",
              "    </tr>\n",
              "    <tr>\n",
              "      <th>4</th>\n",
              "      <td>chase02@example.org</td>\n",
              "      <td>871-963-9478x0125</td>\n",
              "    </tr>\n",
              "    <tr>\n",
              "      <th>5</th>\n",
              "      <td>sarah40@example.com</td>\n",
              "      <td>001-912-925-6769x28422</td>\n",
              "    </tr>\n",
              "    <tr>\n",
              "      <th>6</th>\n",
              "      <td>jonathanduncan@example.org</td>\n",
              "      <td>610-941-3285x7919</td>\n",
              "    </tr>\n",
              "    <tr>\n",
              "      <th>7</th>\n",
              "      <td>foleykevin@example.org</td>\n",
              "      <td>284-436-1665</td>\n",
              "    </tr>\n",
              "    <tr>\n",
              "      <th>8</th>\n",
              "      <td>melissa76@example.net</td>\n",
              "      <td>(853)687-4149x7423</td>\n",
              "    </tr>\n",
              "    <tr>\n",
              "      <th>9</th>\n",
              "      <td>jamesbailey@example.com</td>\n",
              "      <td>786.320.7899x940</td>\n",
              "    </tr>\n",
              "  </tbody>\n",
              "</table>\n",
              "</div>\n",
              "    <div class=\"colab-df-buttons\">\n",
              "\n",
              "  <div class=\"colab-df-container\">\n",
              "    <button class=\"colab-df-convert\" onclick=\"convertToInteractive('df-fd540baa-dc71-4d6e-8d2d-9589474a3a10')\"\n",
              "            title=\"Convert this dataframe to an interactive table.\"\n",
              "            style=\"display:none;\">\n",
              "\n",
              "  <svg xmlns=\"http://www.w3.org/2000/svg\" height=\"24px\" viewBox=\"0 -960 960 960\">\n",
              "    <path d=\"M120-120v-720h720v720H120Zm60-500h600v-160H180v160Zm220 220h160v-160H400v160Zm0 220h160v-160H400v160ZM180-400h160v-160H180v160Zm440 0h160v-160H620v160ZM180-180h160v-160H180v160Zm440 0h160v-160H620v160Z\"/>\n",
              "  </svg>\n",
              "    </button>\n",
              "\n",
              "  <style>\n",
              "    .colab-df-container {\n",
              "      display:flex;\n",
              "      gap: 12px;\n",
              "    }\n",
              "\n",
              "    .colab-df-convert {\n",
              "      background-color: #E8F0FE;\n",
              "      border: none;\n",
              "      border-radius: 50%;\n",
              "      cursor: pointer;\n",
              "      display: none;\n",
              "      fill: #1967D2;\n",
              "      height: 32px;\n",
              "      padding: 0 0 0 0;\n",
              "      width: 32px;\n",
              "    }\n",
              "\n",
              "    .colab-df-convert:hover {\n",
              "      background-color: #E2EBFA;\n",
              "      box-shadow: 0px 1px 2px rgba(60, 64, 67, 0.3), 0px 1px 3px 1px rgba(60, 64, 67, 0.15);\n",
              "      fill: #174EA6;\n",
              "    }\n",
              "\n",
              "    .colab-df-buttons div {\n",
              "      margin-bottom: 4px;\n",
              "    }\n",
              "\n",
              "    [theme=dark] .colab-df-convert {\n",
              "      background-color: #3B4455;\n",
              "      fill: #D2E3FC;\n",
              "    }\n",
              "\n",
              "    [theme=dark] .colab-df-convert:hover {\n",
              "      background-color: #434B5C;\n",
              "      box-shadow: 0px 1px 3px 1px rgba(0, 0, 0, 0.15);\n",
              "      filter: drop-shadow(0px 1px 2px rgba(0, 0, 0, 0.3));\n",
              "      fill: #FFFFFF;\n",
              "    }\n",
              "  </style>\n",
              "\n",
              "    <script>\n",
              "      const buttonEl =\n",
              "        document.querySelector('#df-fd540baa-dc71-4d6e-8d2d-9589474a3a10 button.colab-df-convert');\n",
              "      buttonEl.style.display =\n",
              "        google.colab.kernel.accessAllowed ? 'block' : 'none';\n",
              "\n",
              "      async function convertToInteractive(key) {\n",
              "        const element = document.querySelector('#df-fd540baa-dc71-4d6e-8d2d-9589474a3a10');\n",
              "        const dataTable =\n",
              "          await google.colab.kernel.invokeFunction('convertToInteractive',\n",
              "                                                    [key], {});\n",
              "        if (!dataTable) return;\n",
              "\n",
              "        const docLinkHtml = 'Like what you see? Visit the ' +\n",
              "          '<a target=\"_blank\" href=https://colab.research.google.com/notebooks/data_table.ipynb>data table notebook</a>'\n",
              "          + ' to learn more about interactive tables.';\n",
              "        element.innerHTML = '';\n",
              "        dataTable['output_type'] = 'display_data';\n",
              "        await google.colab.output.renderOutput(dataTable, element);\n",
              "        const docLink = document.createElement('div');\n",
              "        docLink.innerHTML = docLinkHtml;\n",
              "        element.appendChild(docLink);\n",
              "      }\n",
              "    </script>\n",
              "  </div>\n",
              "\n",
              "\n",
              "<div id=\"df-e79c8574-3748-4dc4-a0de-cdaa82248e9f\">\n",
              "  <button class=\"colab-df-quickchart\" onclick=\"quickchart('df-e79c8574-3748-4dc4-a0de-cdaa82248e9f')\"\n",
              "            title=\"Suggest charts.\"\n",
              "            style=\"display:none;\">\n",
              "\n",
              "<svg xmlns=\"http://www.w3.org/2000/svg\" height=\"24px\"viewBox=\"0 0 24 24\"\n",
              "     width=\"24px\">\n",
              "    <g>\n",
              "        <path d=\"M19 3H5c-1.1 0-2 .9-2 2v14c0 1.1.9 2 2 2h14c1.1 0 2-.9 2-2V5c0-1.1-.9-2-2-2zM9 17H7v-7h2v7zm4 0h-2V7h2v10zm4 0h-2v-4h2v4z\"/>\n",
              "    </g>\n",
              "</svg>\n",
              "  </button>\n",
              "\n",
              "<style>\n",
              "  .colab-df-quickchart {\n",
              "      --bg-color: #E8F0FE;\n",
              "      --fill-color: #1967D2;\n",
              "      --hover-bg-color: #E2EBFA;\n",
              "      --hover-fill-color: #174EA6;\n",
              "      --disabled-fill-color: #AAA;\n",
              "      --disabled-bg-color: #DDD;\n",
              "  }\n",
              "\n",
              "  [theme=dark] .colab-df-quickchart {\n",
              "      --bg-color: #3B4455;\n",
              "      --fill-color: #D2E3FC;\n",
              "      --hover-bg-color: #434B5C;\n",
              "      --hover-fill-color: #FFFFFF;\n",
              "      --disabled-bg-color: #3B4455;\n",
              "      --disabled-fill-color: #666;\n",
              "  }\n",
              "\n",
              "  .colab-df-quickchart {\n",
              "    background-color: var(--bg-color);\n",
              "    border: none;\n",
              "    border-radius: 50%;\n",
              "    cursor: pointer;\n",
              "    display: none;\n",
              "    fill: var(--fill-color);\n",
              "    height: 32px;\n",
              "    padding: 0;\n",
              "    width: 32px;\n",
              "  }\n",
              "\n",
              "  .colab-df-quickchart:hover {\n",
              "    background-color: var(--hover-bg-color);\n",
              "    box-shadow: 0 1px 2px rgba(60, 64, 67, 0.3), 0 1px 3px 1px rgba(60, 64, 67, 0.15);\n",
              "    fill: var(--button-hover-fill-color);\n",
              "  }\n",
              "\n",
              "  .colab-df-quickchart-complete:disabled,\n",
              "  .colab-df-quickchart-complete:disabled:hover {\n",
              "    background-color: var(--disabled-bg-color);\n",
              "    fill: var(--disabled-fill-color);\n",
              "    box-shadow: none;\n",
              "  }\n",
              "\n",
              "  .colab-df-spinner {\n",
              "    border: 2px solid var(--fill-color);\n",
              "    border-color: transparent;\n",
              "    border-bottom-color: var(--fill-color);\n",
              "    animation:\n",
              "      spin 1s steps(1) infinite;\n",
              "  }\n",
              "\n",
              "  @keyframes spin {\n",
              "    0% {\n",
              "      border-color: transparent;\n",
              "      border-bottom-color: var(--fill-color);\n",
              "      border-left-color: var(--fill-color);\n",
              "    }\n",
              "    20% {\n",
              "      border-color: transparent;\n",
              "      border-left-color: var(--fill-color);\n",
              "      border-top-color: var(--fill-color);\n",
              "    }\n",
              "    30% {\n",
              "      border-color: transparent;\n",
              "      border-left-color: var(--fill-color);\n",
              "      border-top-color: var(--fill-color);\n",
              "      border-right-color: var(--fill-color);\n",
              "    }\n",
              "    40% {\n",
              "      border-color: transparent;\n",
              "      border-right-color: var(--fill-color);\n",
              "      border-top-color: var(--fill-color);\n",
              "    }\n",
              "    60% {\n",
              "      border-color: transparent;\n",
              "      border-right-color: var(--fill-color);\n",
              "    }\n",
              "    80% {\n",
              "      border-color: transparent;\n",
              "      border-right-color: var(--fill-color);\n",
              "      border-bottom-color: var(--fill-color);\n",
              "    }\n",
              "    90% {\n",
              "      border-color: transparent;\n",
              "      border-bottom-color: var(--fill-color);\n",
              "    }\n",
              "  }\n",
              "</style>\n",
              "\n",
              "  <script>\n",
              "    async function quickchart(key) {\n",
              "      const quickchartButtonEl =\n",
              "        document.querySelector('#' + key + ' button');\n",
              "      quickchartButtonEl.disabled = true;  // To prevent multiple clicks.\n",
              "      quickchartButtonEl.classList.add('colab-df-spinner');\n",
              "      try {\n",
              "        const charts = await google.colab.kernel.invokeFunction(\n",
              "            'suggestCharts', [key], {});\n",
              "      } catch (error) {\n",
              "        console.error('Error during call to suggestCharts:', error);\n",
              "      }\n",
              "      quickchartButtonEl.classList.remove('colab-df-spinner');\n",
              "      quickchartButtonEl.classList.add('colab-df-quickchart-complete');\n",
              "    }\n",
              "    (() => {\n",
              "      let quickchartButtonEl =\n",
              "        document.querySelector('#df-e79c8574-3748-4dc4-a0de-cdaa82248e9f button');\n",
              "      quickchartButtonEl.style.display =\n",
              "        google.colab.kernel.accessAllowed ? 'block' : 'none';\n",
              "    })();\n",
              "  </script>\n",
              "</div>\n",
              "    </div>\n",
              "  </div>\n"
            ]
          },
          "metadata": {},
          "execution_count": 51
        }
      ]
    }
  ]
}